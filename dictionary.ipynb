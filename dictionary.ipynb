{
 "cells": [
  {
   "cell_type": "code",
   "execution_count": 1,
   "id": "7ba46c49-7163-4b8d-8049-0b9d99facb60",
   "metadata": {},
   "outputs": [],
   "source": [
    "import pandas as pd"
   ]
  },
  {
   "cell_type": "code",
   "execution_count": 4,
   "id": "3d6debc9-8963-474d-89b7-3e1a24e39a6e",
   "metadata": {},
   "outputs": [],
   "source": [
    "file = pd.read_csv(\"dictionary.csv\")"
   ]
  },
  {
   "cell_type": "code",
   "execution_count": 6,
   "id": "f546bc03-c611-4a99-9793-ac2d33aebd5d",
   "metadata": {},
   "outputs": [
    {
     "data": {
      "text/html": [
       "<div>\n",
       "<style scoped>\n",
       "    .dataframe tbody tr th:only-of-type {\n",
       "        vertical-align: middle;\n",
       "    }\n",
       "\n",
       "    .dataframe tbody tr th {\n",
       "        vertical-align: top;\n",
       "    }\n",
       "\n",
       "    .dataframe thead th {\n",
       "        text-align: right;\n",
       "    }\n",
       "</style>\n",
       "<table border=\"1\" class=\"dataframe\">\n",
       "  <thead>\n",
       "    <tr style=\"text-align: right;\">\n",
       "      <th></th>\n",
       "      <th>word</th>\n",
       "      <th>definition</th>\n",
       "    </tr>\n",
       "  </thead>\n",
       "  <tbody>\n",
       "    <tr>\n",
       "      <th>0</th>\n",
       "      <td>abandoned industrial site</td>\n",
       "      <td>Site that cannot be used for any purpose, bein...</td>\n",
       "    </tr>\n",
       "    <tr>\n",
       "      <th>1</th>\n",
       "      <td>abandoned vehicle</td>\n",
       "      <td>A vehicle that has been discarded in the envir...</td>\n",
       "    </tr>\n",
       "    <tr>\n",
       "      <th>2</th>\n",
       "      <td>abiotic factor</td>\n",
       "      <td>Physical, chemical and other non-living enviro...</td>\n",
       "    </tr>\n",
       "    <tr>\n",
       "      <th>3</th>\n",
       "      <td>access road</td>\n",
       "      <td>Any street or narrow stretch of paved surface ...</td>\n",
       "    </tr>\n",
       "    <tr>\n",
       "      <th>4</th>\n",
       "      <td>access to the sea</td>\n",
       "      <td>The ability to bring goods to and from a port ...</td>\n",
       "    </tr>\n",
       "  </tbody>\n",
       "</table>\n",
       "</div>"
      ],
      "text/plain": [
       "                        word  \\\n",
       "0  abandoned industrial site   \n",
       "1          abandoned vehicle   \n",
       "2             abiotic factor   \n",
       "3                access road   \n",
       "4          access to the sea   \n",
       "\n",
       "                                          definition  \n",
       "0  Site that cannot be used for any purpose, bein...  \n",
       "1  A vehicle that has been discarded in the envir...  \n",
       "2  Physical, chemical and other non-living enviro...  \n",
       "3  Any street or narrow stretch of paved surface ...  \n",
       "4  The ability to bring goods to and from a port ...  "
      ]
     },
     "execution_count": 6,
     "metadata": {},
     "output_type": "execute_result"
    }
   ],
   "source": [
    "file.head()"
   ]
  },
  {
   "cell_type": "code",
   "execution_count": 18,
   "id": "7549eef9-1fe0-49bc-8a05-a8f1b7283632",
   "metadata": {},
   "outputs": [
    {
     "data": {
      "text/plain": [
       "0        abandoned industrial site\n",
       "1                abandoned vehicle\n",
       "2                   abiotic factor\n",
       "3                      access road\n",
       "4                access to the sea\n",
       "                   ...            \n",
       "49532                       casing\n",
       "49533                       facing\n",
       "49534                       lining\n",
       "49535           assumption of Mary\n",
       "49536                 auscultation\n",
       "Name: word, Length: 49537, dtype: object"
      ]
     },
     "execution_count": 18,
     "metadata": {},
     "output_type": "execute_result"
    }
   ],
   "source": [
    "file['word']"
   ]
  },
  {
   "cell_type": "code",
   "execution_count": 21,
   "id": "4a128fb8-1edd-4b1c-806e-3c8536db626d",
   "metadata": {},
   "outputs": [
    {
     "data": {
      "text/plain": [
       "'Something put around something else, usually in order to give it another look or to protect it from its environment.'"
      ]
     },
     "execution_count": 21,
     "metadata": {},
     "output_type": "execute_result"
    }
   ],
   "source": [
    "def1 = file[file['word']=='lining']['definition'].squeeze()\n",
    "def1"
   ]
  }
 ],
 "metadata": {
  "kernelspec": {
   "display_name": "Python 3 (ipykernel)",
   "language": "python",
   "name": "python3"
  },
  "language_info": {
   "codemirror_mode": {
    "name": "ipython",
    "version": 3
   },
   "file_extension": ".py",
   "mimetype": "text/x-python",
   "name": "python",
   "nbconvert_exporter": "python",
   "pygments_lexer": "ipython3",
   "version": "3.10.11"
  }
 },
 "nbformat": 4,
 "nbformat_minor": 5
}
